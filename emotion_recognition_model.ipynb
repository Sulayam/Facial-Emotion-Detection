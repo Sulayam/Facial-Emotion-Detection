{
 "cells": [
  {
   "cell_type": "markdown",
   "metadata": {
    "id": "3DR-eO17geWu"
   },
   "source": [
    "# Convolutional Neural Network"
   ]
  },
  {
   "cell_type": "markdown",
   "metadata": {
    "id": "EMefrVPCg-60"
   },
   "source": [
    "### Importing the libraries"
   ]
  },
  {
   "cell_type": "code",
   "execution_count": 1,
   "metadata": {
    "id": "TE58rtVlPADd"
   },
   "outputs": [
    {
     "name": "stderr",
     "output_type": "stream",
     "text": [
      "Using TensorFlow backend.\n"
     ]
    }
   ],
   "source": [
    "import tensorflow as tf\n",
    "from keras.preprocessing.image import ImageDataGenerator"
   ]
  },
  {
   "cell_type": "code",
   "execution_count": 2,
   "metadata": {
    "colab": {
     "base_uri": "https://localhost:8080/",
     "height": 36
    },
    "id": "ZbzPhhD9PBwG",
    "outputId": "c9ee7436-b13e-4b30-d568-5305960f3926"
   },
   "outputs": [
    {
     "data": {
      "text/plain": [
       "'1.10.0'"
      ]
     },
     "execution_count": 2,
     "metadata": {},
     "output_type": "execute_result"
    }
   ],
   "source": [
    "tf.__version__"
   ]
  },
  {
   "cell_type": "markdown",
   "metadata": {
    "id": "oxQxCBWyoGPE"
   },
   "source": [
    "## Part 1 - Data Preprocessing"
   ]
  },
  {
   "cell_type": "markdown",
   "metadata": {
    "id": "MvE-heJNo3GG"
   },
   "source": [
    "### Preprocessing the Training set"
   ]
  },
  {
   "cell_type": "code",
   "execution_count": 4,
   "metadata": {
    "id": "93003-4HPPoT"
   },
   "outputs": [
    {
     "name": "stdout",
     "output_type": "stream",
     "text": [
      "Found 28709 images belonging to 7 classes.\n"
     ]
    }
   ],
   "source": [
    "train_datagen = ImageDataGenerator(\n",
    "        rescale=1./255,\n",
    "        shear_range=0.2,\n",
    "        zoom_range=0.2,\n",
    "        horizontal_flip=True)\n",
    "training_set = train_datagen.flow_from_directory(\n",
    "        'data/emotion/train',\n",
    "        target_size=(64, 64),\n",
    "        batch_size=128,\n",
    "        class_mode='categorical')"
   ]
  },
  {
   "cell_type": "markdown",
   "metadata": {
    "id": "mrCMmGw9pHys"
   },
   "source": [
    "### Preprocessing the Test set"
   ]
  },
  {
   "cell_type": "code",
   "execution_count": 5,
   "metadata": {
    "id": "16V7SgPOWp-h"
   },
   "outputs": [
    {
     "name": "stdout",
     "output_type": "stream",
     "text": [
      "Found 7178 images belonging to 7 classes.\n"
     ]
    }
   ],
   "source": [
    "test_datagen = ImageDataGenerator(rescale=1./255)\n",
    "test_set = test_datagen.flow_from_directory(\n",
    "        'data/emotion/test',\n",
    "        target_size=(64, 64),\n",
    "        batch_size=128,\n",
    "        class_mode='categorical')"
   ]
  },
  {
   "cell_type": "markdown",
   "metadata": {
    "id": "af8O4l90gk7B"
   },
   "source": [
    "## Part 2 - Building the CNN"
   ]
  },
  {
   "cell_type": "markdown",
   "metadata": {
    "id": "ces1gXY2lmoX"
   },
   "source": [
    "### Initialising the CNN"
   ]
  },
  {
   "cell_type": "code",
   "execution_count": 6,
   "metadata": {
    "id": "9qWihmApYAGk"
   },
   "outputs": [],
   "source": [
    "cnn = tf.keras.models.Sequential()"
   ]
  },
  {
   "cell_type": "markdown",
   "metadata": {
    "id": "u5YJj_XMl5LF"
   },
   "source": [
    "### Step 1 - Convolution"
   ]
  },
  {
   "cell_type": "code",
   "execution_count": 7,
   "metadata": {
    "id": "dkq5_91mYp2x"
   },
   "outputs": [],
   "source": [
    "cnn.add(tf.keras.layers.Conv2D(filters=32, kernel_size=3,activation='relu', input_shape=[64,64,3]))"
   ]
  },
  {
   "cell_type": "markdown",
   "metadata": {
    "id": "tf87FpvxmNOJ"
   },
   "source": [
    "### Step 2 - Pooling"
   ]
  },
  {
   "cell_type": "code",
   "execution_count": 8,
   "metadata": {
    "id": "J2K356mGaR9t"
   },
   "outputs": [],
   "source": [
    "cnn.add(tf.keras.layers.MaxPool2D(pool_size=2, strides=2))"
   ]
  },
  {
   "cell_type": "markdown",
   "metadata": {
    "id": "xaTOgD8rm4mU"
   },
   "source": [
    "### Adding a second convolutional layer"
   ]
  },
  {
   "cell_type": "code",
   "execution_count": 9,
   "metadata": {
    "id": "oUVW-Ufqa_kD"
   },
   "outputs": [],
   "source": [
    "cnn.add(tf.keras.layers.Conv2D(filters=32, kernel_size=3,activation='relu'))\n",
    "cnn.add(tf.keras.layers.MaxPool2D(pool_size=2, strides=2))"
   ]
  },
  {
   "cell_type": "markdown",
   "metadata": {
    "id": "tmiEuvTunKfk"
   },
   "source": [
    "### Step 3 - Flattening"
   ]
  },
  {
   "cell_type": "code",
   "execution_count": 10,
   "metadata": {
    "id": "5eKkAvXmbbEr"
   },
   "outputs": [],
   "source": [
    "cnn.add(tf.keras.layers.Flatten())"
   ]
  },
  {
   "cell_type": "markdown",
   "metadata": {
    "id": "dAoSECOm203v"
   },
   "source": [
    "### Step 4 - Full Connection"
   ]
  },
  {
   "cell_type": "code",
   "execution_count": 11,
   "metadata": {
    "id": "GaD6FPy_bp5W"
   },
   "outputs": [],
   "source": [
    "cnn.add(tf.keras.layers.Dense(units=256, activation='relu'))"
   ]
  },
  {
   "cell_type": "markdown",
   "metadata": {
    "id": "yTldFvbX28Na"
   },
   "source": [
    "### Step 5 - Output Layer"
   ]
  },
  {
   "cell_type": "code",
   "execution_count": 12,
   "metadata": {
    "id": "ZUoJX_g6cvFQ"
   },
   "outputs": [],
   "source": [
    "cnn.add(tf.keras.layers.Dense(units=7, activation='softmax'))"
   ]
  },
  {
   "cell_type": "markdown",
   "metadata": {
    "id": "D6XkI90snSDl"
   },
   "source": [
    "## Part 3 - Training the CNN"
   ]
  },
  {
   "cell_type": "markdown",
   "metadata": {
    "id": "vfrFQACEnc6i"
   },
   "source": [
    "### Compiling the CNN"
   ]
  },
  {
   "cell_type": "code",
   "execution_count": 13,
   "metadata": {
    "id": "9qPkKGPmioOP"
   },
   "outputs": [],
   "source": [
    "cnn.compile(optimizer = 'adam', loss = 'categorical_crossentropy', metrics = ['accuracy'])"
   ]
  },
  {
   "cell_type": "markdown",
   "metadata": {
    "id": "ehS-v3MIpX2h"
   },
   "source": [
    "### Training the CNN on the Training set and evaluating it on the Test set"
   ]
  },
  {
   "cell_type": "code",
   "execution_count": null,
   "metadata": {
    "id": "KBr-Ox6FjFnq"
   },
   "outputs": [
    {
     "name": "stdout",
     "output_type": "stream",
     "text": [
      "Epoch 1/40\n",
      "1794/1794 [==============================] - 354s 197ms/step - loss: 1.4225 - acc: 0.4520 - val_loss: 1.2823 - val_acc: 0.5041\n",
      "Epoch 2/40\n",
      "1794/1794 [==============================] - 303s 169ms/step - loss: 1.1635 - acc: 0.5600 - val_loss: 1.2215 - val_acc: 0.5441\n",
      "Epoch 3/40\n",
      "1794/1794 [==============================] - 308s 172ms/step - loss: 1.0171 - acc: 0.6199 - val_loss: 1.2553 - val_acc: 0.5455\n",
      "Epoch 4/40\n",
      "1794/1794 [==============================] - 292s 163ms/step - loss: 0.9065 - acc: 0.6646 - val_loss: 1.3074 - val_acc: 0.5456\n",
      "Epoch 5/40\n",
      "1794/1794 [==============================] - 268s 150ms/step - loss: 0.8169 - acc: 0.7000 - val_loss: 1.3568 - val_acc: 0.5600\n",
      "Epoch 6/40\n",
      "1794/1794 [==============================] - 261s 146ms/step - loss: 0.7379 - acc: 0.7305 - val_loss: 1.4225 - val_acc: 0.5647\n",
      "Epoch 7/40\n",
      "1794/1794 [==============================] - 259s 144ms/step - loss: 0.6730 - acc: 0.7545 - val_loss: 1.5042 - val_acc: 0.5594\n",
      "Epoch 8/40\n",
      "1794/1794 [==============================] - 261s 145ms/step - loss: 0.6172 - acc: 0.7770 - val_loss: 1.6300 - val_acc: 0.5611\n",
      "Epoch 9/40\n",
      "1794/1794 [==============================] - 261s 145ms/step - loss: 0.5640 - acc: 0.7967 - val_loss: 1.6772 - val_acc: 0.5578\n",
      "Epoch 10/40\n",
      "1794/1794 [==============================] - 264s 147ms/step - loss: 0.5289 - acc: 0.8099 - val_loss: 1.7856 - val_acc: 0.5524\n",
      "Epoch 11/40\n",
      "1794/1794 [==============================] - 266s 148ms/step - loss: 0.4914 - acc: 0.8236 - val_loss: 1.8727 - val_acc: 0.5546\n",
      "Epoch 12/40\n",
      "1794/1794 [==============================] - 265s 148ms/step - loss: 0.4603 - acc: 0.8361 - val_loss: 1.9095 - val_acc: 0.5510\n",
      "Epoch 13/40\n",
      "1794/1794 [==============================] - 295s 165ms/step - loss: 0.4362 - acc: 0.8451 - val_loss: 1.9545 - val_acc: 0.5532\n",
      "Epoch 14/40\n",
      "1794/1794 [==============================] - 271s 151ms/step - loss: 0.4139 - acc: 0.8528 - val_loss: 2.0402 - val_acc: 0.5552\n",
      "Epoch 15/40\n",
      "1794/1794 [==============================] - 336s 187ms/step - loss: 0.3902 - acc: 0.8621 - val_loss: 2.0860 - val_acc: 0.5618\n",
      "Epoch 16/40\n",
      "1794/1794 [==============================] - 390s 217ms/step - loss: 0.3730 - acc: 0.8679 - val_loss: 2.1001 - val_acc: 0.5565\n",
      "Epoch 17/40\n",
      "1794/1794 [==============================] - 394s 219ms/step - loss: 0.3587 - acc: 0.8731 - val_loss: 2.2471 - val_acc: 0.5541\n",
      "Epoch 18/40\n",
      "1794/1794 [==============================] - 354s 197ms/step - loss: 0.3426 - acc: 0.8785 - val_loss: 2.1989 - val_acc: 0.5483\n",
      "Epoch 19/40\n",
      "1794/1794 [==============================] - 374s 209ms/step - loss: 0.3286 - acc: 0.8844 - val_loss: 2.2768 - val_acc: 0.5469\n",
      "Epoch 20/40\n",
      "1794/1794 [==============================] - 378s 211ms/step - loss: 0.3160 - acc: 0.8886 - val_loss: 2.3256 - val_acc: 0.5498\n",
      "Epoch 21/40\n",
      "1794/1794 [==============================] - 532s 297ms/step - loss: 0.3067 - acc: 0.8922 - val_loss: 2.4379 - val_acc: 0.5439\n",
      "Epoch 22/40\n",
      "1794/1794 [==============================] - 596s 332ms/step - loss: 0.2975 - acc: 0.8951 - val_loss: 2.4015 - val_acc: 0.5552\n",
      "Epoch 23/40\n",
      "1794/1794 [==============================] - 598s 333ms/step - loss: 0.2842 - acc: 0.8995 - val_loss: 2.4610 - val_acc: 0.5511\n",
      "Epoch 24/40\n",
      "1794/1794 [==============================] - 582s 324ms/step - loss: 0.2818 - acc: 0.9009 - val_loss: 2.4417 - val_acc: 0.5592\n",
      "Epoch 25/40\n",
      "1794/1794 [==============================] - 582s 324ms/step - loss: 0.2690 - acc: 0.9057 - val_loss: 2.5598 - val_acc: 0.5587\n",
      "Epoch 26/40\n",
      "1794/1794 [==============================] - 595s 332ms/step - loss: 0.2669 - acc: 0.9059 - val_loss: 2.5089 - val_acc: 0.5543\n",
      "Epoch 27/40\n",
      "1794/1794 [==============================] - 524s 292ms/step - loss: 0.2579 - acc: 0.9091 - val_loss: 2.5729 - val_acc: 0.5488\n",
      "Epoch 28/40\n",
      "1794/1794 [==============================] - 300s 167ms/step - loss: 0.2532 - acc: 0.9115 - val_loss: 2.6294 - val_acc: 0.5556\n",
      "Epoch 29/40\n",
      "1794/1794 [==============================] - 298s 166ms/step - loss: 0.2423 - acc: 0.9154 - val_loss: 2.6453 - val_acc: 0.5547\n",
      "Epoch 30/40\n",
      "1794/1794 [==============================] - 400s 223ms/step - loss: 0.2383 - acc: 0.9169 - val_loss: 2.7070 - val_acc: 0.5592\n",
      "Epoch 31/40\n",
      "1794/1794 [==============================] - 447s 249ms/step - loss: 0.2318 - acc: 0.9187 - val_loss: 2.7082 - val_acc: 0.5496\n",
      "Epoch 32/40\n",
      "1794/1794 [==============================] - 447s 249ms/step - loss: 0.2288 - acc: 0.9195 - val_loss: 2.7253 - val_acc: 0.5403\n",
      "Epoch 33/40\n",
      "1794/1794 [==============================] - 510s 284ms/step - loss: 0.2231 - acc: 0.9224 - val_loss: 2.7960 - val_acc: 0.5515\n",
      "Epoch 34/40\n",
      "1794/1794 [==============================] - 368s 205ms/step - loss: 0.2209 - acc: 0.9231 - val_loss: 2.7888 - val_acc: 0.5486\n",
      "Epoch 35/40\n",
      "1794/1794 [==============================] - 400s 223ms/step - loss: 0.2145 - acc: 0.9259 - val_loss: 2.8368 - val_acc: 0.5456\n",
      "Epoch 36/40\n",
      "1794/1794 [==============================] - 458s 255ms/step - loss: 0.2128 - acc: 0.9253 - val_loss: 2.8224 - val_acc: 0.5545\n",
      "Epoch 37/40\n",
      "1794/1794 [==============================] - 407s 227ms/step - loss: 0.2062 - acc: 0.9282 - val_loss: 2.7839 - val_acc: 0.5533\n",
      "Epoch 38/40\n",
      "1794/1794 [==============================] - 362s 202ms/step - loss: 0.2033 - acc: 0.9292 - val_loss: 2.9199 - val_acc: 0.5508\n",
      "Epoch 39/40\n",
      "1794/1794 [==============================] - 293s 164ms/step - loss: 0.1992 - acc: 0.9311 - val_loss: 2.9139 - val_acc: 0.5489\n",
      "Epoch 40/40\n",
      " 494/1794 [=======>......................] - ETA: 3:09 - loss: 0.1995 - acc: 0.9307"
     ]
    }
   ],
   "source": [
    "cnn.fit_generator(training_set, validation_data = test_set, epochs = 40, steps_per_epoch = 28709//16, validation_steps = 300)"
   ]
  },
  {
   "cell_type": "markdown",
   "metadata": {
    "id": "U3PZasO0006Z"
   },
   "source": [
    "## Part 4 - Making a single prediction"
   ]
  },
  {
   "cell_type": "code",
   "execution_count": 52,
   "metadata": {
    "id": "u71DtIMjkLCg"
   },
   "outputs": [],
   "source": [
    "import numpy as np\n",
    "from keras.preprocessing import image\n",
    "test_image = image.load_img(\"Faces/single_prediction/happy.jpg\", target_size = (64,64))\n",
    "test_image = image.img_to_array(test_image)\n",
    "test_image = np.expand_dims(test_image, axis = 0)\n",
    "result = cnn.predict(test_image)\n",
    "training_set.class_indices\n",
    "if result[0][0]==1:\n",
    "    prediction='angry'\n",
    "elif result[0][1]==1:\n",
    "    prediction='disgust'\n",
    "elif result[0][2]==1:\n",
    "    prediction='fear'\n",
    "elif result[0][3]==1:\n",
    "    prediction='happy'\n",
    "elif result[0][4]==1:\n",
    "    prediction='neutral'\n",
    "elif result[0][5]==1:\n",
    "    prediction='sad'\n",
    "else:\n",
    "    prediction='suprise'"
   ]
  },
  {
   "cell_type": "code",
   "execution_count": 53,
   "metadata": {
    "id": "HCocPymrpsyk"
   },
   "outputs": [
    {
     "name": "stdout",
     "output_type": "stream",
     "text": [
      "happy\n"
     ]
    }
   ],
   "source": [
    "print(prediction)"
   ]
  },
  {
   "cell_type": "code",
   "execution_count": null,
   "metadata": {},
   "outputs": [],
   "source": [
    "# run this after 40 epochs are done\n",
    "cnn.save('emotion_model_cnn.h5')"
   ]
  }
 ],
 "metadata": {
  "colab": {
   "collapsed_sections": [],
   "name": "Copy of convolutional_neural_network.ipynb",
   "provenance": []
  },
  "kernelspec": {
   "display_name": "Python 3 (ipykernel)",
   "language": "python",
   "name": "python3"
  },
  "language_info": {
   "codemirror_mode": {
    "name": "ipython",
    "version": 3
   },
   "file_extension": ".py",
   "mimetype": "text/x-python",
   "name": "python",
   "nbconvert_exporter": "python",
   "pygments_lexer": "ipython3",
   "version": "3.9.7"
  }
 },
 "nbformat": 4,
 "nbformat_minor": 2
}
